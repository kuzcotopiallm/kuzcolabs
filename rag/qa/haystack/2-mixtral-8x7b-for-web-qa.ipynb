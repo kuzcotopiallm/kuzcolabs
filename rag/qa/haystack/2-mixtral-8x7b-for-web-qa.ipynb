{
 "cells": [
  {
   "cell_type": "code",
   "execution_count": 1,
   "id": "111d1524-706b-4046-bd6c-d7092d3f8ba0",
   "metadata": {},
   "outputs": [],
   "source": [
    "import os\n",
    "from getpass import getpass\n",
    "# os.environ[\"HF_API_TOKEN\"] = getpass(\"Enter Hugging Face token: \")"
   ]
  },
  {
   "cell_type": "code",
   "execution_count": 2,
   "id": "f3414135-7de6-4a0d-9141-d648ca839736",
   "metadata": {},
   "outputs": [],
   "source": [
    "import os\n",
    "os.environ['OPENAI_API_KEY']='sk-111111111111111111111111111111111111111111111111'\n",
    "os.environ['OPENAI_API_BASE']='http://127.0.0.1:5000/v1'"
   ]
  },
  {
   "cell_type": "code",
   "execution_count": 3,
   "id": "aac12351-0fe8-4ce6-ac31-999b43f3a084",
   "metadata": {},
   "outputs": [
    {
     "name": "stdout",
     "output_type": "stream",
     "text": [
      "Mixtral-8x7B-instruct-exl2-6.0bpw\n"
     ]
    }
   ],
   "source": [
    "import requests\n",
    "model_info_url = 'http://127.0.0.1:5000/v1/internal/model/info'\n",
    "resp = requests.get(model_info_url)\n",
    "model = resp.json()['model_name']\n",
    "\n",
    "print(model)"
   ]
  },
  {
   "cell_type": "code",
   "execution_count": 4,
   "id": "7c389684-599b-47c9-9ca1-4ddcb66acdb7",
   "metadata": {},
   "outputs": [],
   "source": [
    "from haystack.components.generators import HuggingFaceTGIGenerator, OpenAIGenerator\n",
    "\n",
    "# generator = HuggingFaceTGIGenerator(\"mistralai/Mixtral-8x7B-Instruct-v0.1\")\n",
    "# generator.warm_up()\n",
    "generator = OpenAIGenerator(api_base_url=os.getenv('OPENAI_API_BASE'))   "
   ]
  },
  {
   "cell_type": "code",
   "execution_count": 5,
   "id": "a5fec7f9-6100-4a5e-bf3c-b096fd19730b",
   "metadata": {},
   "outputs": [
    {
     "name": "stdout",
     "output_type": "stream",
     "text": [
      "Natural Language Processing, often abbreviated as NLP, is a subfield of artificial intelligence (AI) that focuses on the interaction between computers and human (natural) languages. The ultimate objective of NLP is to read, decipher, understand, and make sense of the human language in a valuable way. \n",
      "\n",
      "By using various computational techniques, including machine learning and deep learning, NLP attempts to understand the structure of language, the meaning of words, the context of words and sentences, and how to use this information to perform tasks like translation, sentiment analysis, speech recognition, and text summarization.\n",
      "\n",
      "Practical applications of NLP are everywhere, such as search engines, voice-activated assistants (Siri, Alexa, Google Assistant), grammar checkers, email filters, and machine translators (Google Translate), to name a few.\n"
     ]
    }
   ],
   "source": [
    "result = generator.run(\"What's Natural Language Processing?\", generation_kwargs={\"max_tokens\": 350})\n",
    "print(result[\"replies\"][0])"
   ]
  },
  {
   "cell_type": "code",
   "execution_count": null,
   "id": "d506c477-000f-499a-8234-250c4a88f099",
   "metadata": {},
   "outputs": [],
   "source": []
  },
  {
   "cell_type": "code",
   "execution_count": 6,
   "id": "07df3465-68a5-4711-b9a2-1caa9e1c87e0",
   "metadata": {},
   "outputs": [],
   "source": [
    "from haystack.components.fetchers.link_content import LinkContentFetcher\n",
    "from haystack.components.converters import HTMLToDocument\n",
    "from haystack.components.preprocessors import DocumentSplitter\n",
    "from haystack.components.rankers import TransformersSimilarityRanker\n",
    "from haystack.components.builders.prompt_builder import PromptBuilder\n",
    "from haystack import Pipeline\n",
    "from haystack.utils import ComponentDevice"
   ]
  },
  {
   "cell_type": "code",
   "execution_count": 7,
   "id": "4fc3fbfd-f6ea-4b4b-b15d-a7a6ff029f83",
   "metadata": {},
   "outputs": [],
   "source": [
    "fetcher = LinkContentFetcher()\n",
    "converter = HTMLToDocument()\n",
    "document_splitter = DocumentSplitter(split_by=\"word\", split_length=50)\n",
    "similarity_ranker = TransformersSimilarityRanker(top_k=3, device=ComponentDevice.from_str(\"cuda:1\"))"
   ]
  },
  {
   "cell_type": "code",
   "execution_count": 8,
   "id": "32c65891-6c97-4bd5-ab9f-5fa38692aac8",
   "metadata": {},
   "outputs": [],
   "source": [
    "prompt_template = \"\"\"\n",
    "According to these documents:\n",
    "\n",
    "{% for doc in documents %}\n",
    "  {{ doc.content }}\n",
    "{% endfor %}\n",
    "\n",
    "Answer the given question: {{question}}\n",
    "Answer:\n",
    "\"\"\""
   ]
  },
  {
   "cell_type": "code",
   "execution_count": 9,
   "id": "5218d8f9-4ab3-48f2-9d28-5d7ea5cc4cb3",
   "metadata": {},
   "outputs": [],
   "source": [
    "prompt_builder = PromptBuilder(template=prompt_template)"
   ]
  },
  {
   "cell_type": "code",
   "execution_count": 10,
   "id": "db0bed50-2b35-40ff-ad51-d4bc196cea6a",
   "metadata": {},
   "outputs": [],
   "source": [
    "pipeline = Pipeline()\n",
    "pipeline.add_component(\"fetcher\", fetcher)\n",
    "pipeline.add_component(\"converter\", converter)\n",
    "pipeline.add_component(\"splitter\", document_splitter)\n",
    "pipeline.add_component(\"ranker\", similarity_ranker)\n",
    "pipeline.add_component(\"prompt_builder\", prompt_builder)\n",
    "pipeline.add_component(\"llm\", generator)"
   ]
  },
  {
   "cell_type": "code",
   "execution_count": 11,
   "id": "429277c1-9391-4c07-945c-ce44cbc3d968",
   "metadata": {},
   "outputs": [
    {
     "data": {
      "text/plain": []
     },
     "execution_count": 11,
     "metadata": {},
     "output_type": "execute_result"
    }
   ],
   "source": [
    "pipeline.connect(\"fetcher.streams\", \"converter.sources\")\n",
    "pipeline.connect(\"converter.documents\", \"splitter.documents\")\n",
    "pipeline.connect(\"splitter.documents\", \"ranker.documents\")\n",
    "pipeline.connect(\"ranker.documents\", \"prompt_builder.documents\")\n",
    "pipeline.connect(\"prompt_builder.prompt\", \"llm.prompt\")"
   ]
  },
  {
   "cell_type": "code",
   "execution_count": 12,
   "id": "45783976-9179-4abb-99e1-710c61eb6b0b",
   "metadata": {},
   "outputs": [],
   "source": [
    "question = \"What do graphs have to do with Haystack?\""
   ]
  },
  {
   "cell_type": "code",
   "execution_count": 13,
   "id": "d85cf918-66de-457a-bc83-dccd276f3a48",
   "metadata": {},
   "outputs": [],
   "source": [
    "result = pipeline.run({\"prompt_builder\": {\"question\": question},\n",
    "                   \"ranker\": {\"query\": question},\n",
    "                   \"fetcher\": {\"urls\": [\"https://haystack.deepset.ai/blog/introducing-haystack-2-beta-and-advent\"]},\n",
    "                    \"llm\":{\"generation_kwargs\": {\"max_tokens\": 350}}})"
   ]
  },
  {
   "cell_type": "code",
   "execution_count": 14,
   "id": "3d95f264-00a0-4a3e-8668-8112fd74e2ae",
   "metadata": {},
   "outputs": [
    {
     "name": "stdout",
     "output_type": "stream",
     "text": [
      "In the context of Haystack, a text ranking and question-answering framework, graphs are used to represent pipelines of components that process and rank documents. In Haystack 1.x, these pipelines are implemented as directed acyclic graphs (DAGs), which are graphs that do not contain cycles and where edges have a direction. This means that in Haystack 1.x, the components in the pipeline are arranged in a linear fashion, with data flowing from one component to the next.\n",
      "\n",
      "In Haystack 2.0, the use of graphs to represent pipelines is being extended to allow for more complex arrangements of components. Specifically, Haystack 2.0 will allow for the creation of pipelines that can branch out, join, and cycle back to another component. This is achieved by removing the requirement that the graphs be acyclical, resulting in directed graphs (also known as digraphs) rather than DAGs. This allows for the creation of pipelines that can retry, loop back, and potentially even run in parallel.\n"
     ]
    }
   ],
   "source": [
    "print(result['llm']['replies'][0])"
   ]
  },
  {
   "cell_type": "code",
   "execution_count": null,
   "id": "28e7dbd8-a8f0-4ea1-91ca-4db2dd05f66e",
   "metadata": {},
   "outputs": [],
   "source": []
  }
 ],
 "metadata": {
  "kernelspec": {
   "display_name": "venv-haystack",
   "language": "python",
   "name": "venv-haystack"
  },
  "language_info": {
   "codemirror_mode": {
    "name": "ipython",
    "version": 3
   },
   "file_extension": ".py",
   "mimetype": "text/x-python",
   "name": "python",
   "nbconvert_exporter": "python",
   "pygments_lexer": "ipython3",
   "version": "3.11.2"
  }
 },
 "nbformat": 4,
 "nbformat_minor": 5
}
