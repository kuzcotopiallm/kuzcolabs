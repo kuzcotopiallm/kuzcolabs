{
 "cells": [
  {
   "cell_type": "code",
   "execution_count": 2,
   "id": "43a6c1e4-fe0a-4a4f-ab24-c571a1dff265",
   "metadata": {},
   "outputs": [],
   "source": [
    "# !mkdir -p 'data/paul_graham/'\n",
    "# !wget 'https://raw.githubusercontent.com/run-llama/llama_index/main/docs/docs/examples/data/paul_graham/paul_graham_essay.txt' -O 'data/paul_graham/paul_graham_essay.txt'"
   ]
  },
  {
   "cell_type": "code",
   "execution_count": 3,
   "id": "3c051b47-4438-416d-9d2b-0c33e20605dd",
   "metadata": {},
   "outputs": [],
   "source": [
    "import logging\n",
    "import sys\n",
    "\n",
    "logging.basicConfig(stream=sys.stdout, level=logging.INFO)\n",
    "logging.getLogger().addHandler(logging.StreamHandler(stream=sys.stdout))\n",
    "\n",
    "from llama_index.core import VectorStoreIndex, SimpleDirectoryReader\n",
    "from llama_index.core.indices.query.query_transform import HyDEQueryTransform\n",
    "from llama_index.core.query_engine import TransformQueryEngine\n",
    "from IPython.display import Markdown, display"
   ]
  },
  {
   "cell_type": "code",
   "execution_count": 6,
   "id": "28c085d9-e3b0-4215-a34b-6b38a4063215",
   "metadata": {},
   "outputs": [],
   "source": [
    "import os\n",
    "os.environ['OPENAI_API_KEY']='sk-111111111111111111111111111111111111111111111111'\n",
    "os.environ['OPENAI_API_BASE']='http://127.0.0.1:5000/v1'"
   ]
  },
  {
   "cell_type": "code",
   "execution_count": 7,
   "id": "b7a024a1-d0fb-41eb-a6d1-e6532a6653cf",
   "metadata": {},
   "outputs": [
    {
     "name": "stdout",
     "output_type": "stream",
     "text": [
      "Mistral-7B-Instruct-v0.2-8.0bpw-h8-exl2-2\n"
     ]
    }
   ],
   "source": [
    "import requests\n",
    "model_info_url = 'http://127.0.0.1:5000/v1/internal/model/info'\n",
    "resp = requests.get(model_info_url)\n",
    "model = resp.json()['model_name']\n",
    "\n",
    "print(model)"
   ]
  },
  {
   "cell_type": "code",
   "execution_count": 4,
   "id": "57c7ef75-b589-400b-a6a9-990b3c6c9670",
   "metadata": {},
   "outputs": [],
   "source": [
    "# load documents\n",
    "documents = SimpleDirectoryReader(\"./data/paul_graham/\").load_data()"
   ]
  },
  {
   "cell_type": "code",
   "execution_count": 8,
   "id": "9339a22b-ca40-4bb5-bf6d-044f52eb0fe7",
   "metadata": {},
   "outputs": [
    {
     "name": "stdout",
     "output_type": "stream",
     "text": [
      "INFO:httpx:HTTP Request: POST http://127.0.0.1:5000/v1/embeddings \"HTTP/1.1 200 OK\"\n",
      "HTTP Request: POST http://127.0.0.1:5000/v1/embeddings \"HTTP/1.1 200 OK\"\n"
     ]
    }
   ],
   "source": [
    "index = VectorStoreIndex.from_documents(documents)"
   ]
  },
  {
   "cell_type": "code",
   "execution_count": 9,
   "id": "10a6f5b0-eef5-4532-92a0-65eeaa783612",
   "metadata": {},
   "outputs": [],
   "source": [
    "query_str = \"what did paul graham do after going to RISD\""
   ]
  },
  {
   "cell_type": "code",
   "execution_count": 10,
   "id": "c19eb081-d61c-4f59-aa31-a14bc96d47ce",
   "metadata": {},
   "outputs": [
    {
     "name": "stdout",
     "output_type": "stream",
     "text": [
      "INFO:httpx:HTTP Request: POST http://127.0.0.1:5000/v1/embeddings \"HTTP/1.1 200 OK\"\n",
      "HTTP Request: POST http://127.0.0.1:5000/v1/embeddings \"HTTP/1.1 200 OK\"\n",
      "INFO:httpx:HTTP Request: POST http://127.0.0.1:5000/v1/chat/completions \"HTTP/1.1 200 OK\"\n",
      "HTTP Request: POST http://127.0.0.1:5000/v1/chat/completions \"HTTP/1.1 200 OK\"\n"
     ]
    },
    {
     "data": {
      "text/markdown": [
       "<b>After going to RISD, Paul Graham dropped out and moved to New York to become a New York artist. He taught himself to paint and continued to paint while looking for ways to make money. He decided to write a book about Lisp programming to live off the royalties and spend all his time painting. He also became Idelle Weber's de facto studio assistant. Later, he became interested in the World Wide Web and started exploring its potential.</b>"
      ],
      "text/plain": [
       "<IPython.core.display.Markdown object>"
      ]
     },
     "metadata": {},
     "output_type": "display_data"
    }
   ],
   "source": [
    "query_engine = index.as_query_engine()\n",
    "response = query_engine.query(query_str)\n",
    "display(Markdown(f\"<b>{response}</b>\"))"
   ]
  },
  {
   "cell_type": "code",
   "execution_count": 11,
   "id": "8174667c-41ee-4d03-a700-32235bd49568",
   "metadata": {},
   "outputs": [],
   "source": [
    "hyde = HyDEQueryTransform(include_original=True)"
   ]
  },
  {
   "cell_type": "code",
   "execution_count": 12,
   "id": "c44e51c9-4374-45d9-b383-fb6541659bb4",
   "metadata": {},
   "outputs": [
    {
     "name": "stdout",
     "output_type": "stream",
     "text": [
      "INFO:httpx:HTTP Request: POST http://127.0.0.1:5000/v1/chat/completions \"HTTP/1.1 200 OK\"\n",
      "HTTP Request: POST http://127.0.0.1:5000/v1/chat/completions \"HTTP/1.1 200 OK\"\n",
      "INFO:httpx:HTTP Request: POST http://127.0.0.1:5000/v1/embeddings \"HTTP/1.1 200 OK\"\n",
      "HTTP Request: POST http://127.0.0.1:5000/v1/embeddings \"HTTP/1.1 200 OK\"\n",
      "INFO:httpx:HTTP Request: POST http://127.0.0.1:5000/v1/embeddings \"HTTP/1.1 200 OK\"\n",
      "HTTP Request: POST http://127.0.0.1:5000/v1/embeddings \"HTTP/1.1 200 OK\"\n",
      "INFO:httpx:HTTP Request: POST http://127.0.0.1:5000/v1/chat/completions \"HTTP/1.1 200 OK\"\n",
      "HTTP Request: POST http://127.0.0.1:5000/v1/chat/completions \"HTTP/1.1 200 OK\"\n"
     ]
    },
    {
     "data": {
      "text/markdown": [
       "<b>After going to RISD, Paul Graham returned to his hometown of New Hampshire and started a company called Viaweb. Viaweb was an online store builder that allowed merchants to create their own websites and sell products over the internet. However, before they could launch publicly, they had to recruit an initial set of users and make sure their stores had decent-looking designs. During this time, Paul also wrote essays and published them online, which gained him a following and helped him attract applicants for the Summer Founders Program, the precursor to Y Combinator.</b>"
      ],
      "text/plain": [
       "<IPython.core.display.Markdown object>"
      ]
     },
     "metadata": {},
     "output_type": "display_data"
    }
   ],
   "source": [
    "hyde_query_engine = TransformQueryEngine(query_engine, hyde)\n",
    "response = hyde_query_engine.query(query_str)\n",
    "display(Markdown(f\"<b>{response}</b>\"))"
   ]
  },
  {
   "cell_type": "code",
   "execution_count": 13,
   "id": "4c339bbb-3cd2-4921-bf0d-bf58bd9d1568",
   "metadata": {},
   "outputs": [
    {
     "name": "stdout",
     "output_type": "stream",
     "text": [
      "INFO:httpx:HTTP Request: POST http://127.0.0.1:5000/v1/chat/completions \"HTTP/1.1 200 OK\"\n",
      "HTTP Request: POST http://127.0.0.1:5000/v1/chat/completions \"HTTP/1.1 200 OK\"\n"
     ]
    }
   ],
   "source": [
    "query_bundle = hyde(query_str)\n",
    "hyde_doc = query_bundle.embedding_strs[0]"
   ]
  },
  {
   "cell_type": "code",
   "execution_count": 14,
   "id": "4d97382d-b481-4906-a845-68232fe766c5",
   "metadata": {},
   "outputs": [
    {
     "data": {
      "text/plain": [
       "'After completing his studies at the Rhode Island School of Design (RISD) in 1986, Paul Graham took a significant detour from the traditional artistic career path. Instead of pursuing a career as a visual artist, Graham became fascinated with computer programming and artificial intelligence.\\n\\nIn 1987, Graham moved to California to join the artificial intelligence lab at Carnegie Mellon University. There, he worked on a project to create a program that could write poetry. Although the project was ultimately unsuccessful, Graham\\'s experience at Carnegie Mellon ignited his interest in computer science and entrepreneurship.\\n\\nIn 1993, Graham co-founded Viaweb, a company that built custom e-commerce websites for small businesses using a visual interface. Viaweb was one of the first e-commerce companies and was eventually acquired by Yahoo! in 1998 for $49 million.\\n\\nFollowing the sale of Viaweb, Graham became a venture capitalist and founded Y Combinator, a startup accelerator that provides funding and mentorship to early-stage companies. Y Combinator has been instrumental in launching some of the most successful tech startups, including Dropbox, Airbnb, and Stripe.\\n\\nGraham\\'s entrepreneurial ventures and investments have earned him a reputation as a leading figure in the tech industry. He has also continued to write about technology, entrepreneurship, and art, publishing essays on his website, Paulgraham.com.\\n\\nDespite his success in the tech industry, Graham has never completely abandoned his artistic roots. He continues to paint and draw, and his artwork has been exhibited in galleries and museums around the world. In 2015, the Museum of Modern Art in New York acquired one of Graham\\'s paintings for its permanent collection.\\n\\nThus, after leaving RISD, Paul Graham embarked on a remarkable journey that took him from visual art to computer science, entrepreneurship, and venture capital, ultimately leaving a lasting impact on the tech industry and the art world. \"\"\"'"
      ]
     },
     "execution_count": 14,
     "metadata": {},
     "output_type": "execute_result"
    }
   ],
   "source": [
    "hyde_doc\n"
   ]
  },
  {
   "cell_type": "code",
   "execution_count": 15,
   "id": "0997867e-6917-48ed-b355-87f2c215a8f0",
   "metadata": {},
   "outputs": [],
   "source": [
    "query_str = \"What is Bel?\""
   ]
  },
  {
   "cell_type": "code",
   "execution_count": 16,
   "id": "915a9042-7b92-4adb-9e0b-582e95e33b80",
   "metadata": {},
   "outputs": [
    {
     "name": "stdout",
     "output_type": "stream",
     "text": [
      "INFO:httpx:HTTP Request: POST http://127.0.0.1:5000/v1/embeddings \"HTTP/1.1 200 OK\"\n",
      "HTTP Request: POST http://127.0.0.1:5000/v1/embeddings \"HTTP/1.1 200 OK\"\n",
      "INFO:httpx:HTTP Request: POST http://127.0.0.1:5000/v1/chat/completions \"HTTP/1.1 200 OK\"\n",
      "HTTP Request: POST http://127.0.0.1:5000/v1/chat/completions \"HTTP/1.1 200 OK\"\n"
     ]
    },
    {
     "data": {
      "text/markdown": [
       "<b>Bel is a programming language specification expressed as code, written by Paul Graham between late 2015 and the fall of 2019. It was inspired by McCarthy's original Lisp and is intended to be a spec rather than an implementation. Bel was developed intensively and was the focus of Graham's work during that period.</b>"
      ],
      "text/plain": [
       "<IPython.core.display.Markdown object>"
      ]
     },
     "metadata": {},
     "output_type": "display_data"
    }
   ],
   "source": [
    "\n",
    "\n",
    "response = query_engine.query(query_str)\n",
    "display(Markdown(f\"<b>{response}</b>\"))\n"
   ]
  },
  {
   "cell_type": "code",
   "execution_count": 17,
   "id": "96cd59c9-32b8-410c-bf50-969c77557ed4",
   "metadata": {},
   "outputs": [
    {
     "name": "stdout",
     "output_type": "stream",
     "text": [
      "INFO:httpx:HTTP Request: POST http://127.0.0.1:5000/v1/chat/completions \"HTTP/1.1 200 OK\"\n",
      "HTTP Request: POST http://127.0.0.1:5000/v1/chat/completions \"HTTP/1.1 200 OK\"\n",
      "INFO:httpx:HTTP Request: POST http://127.0.0.1:5000/v1/embeddings \"HTTP/1.1 200 OK\"\n",
      "HTTP Request: POST http://127.0.0.1:5000/v1/embeddings \"HTTP/1.1 200 OK\"\n",
      "INFO:httpx:HTTP Request: POST http://127.0.0.1:5000/v1/embeddings \"HTTP/1.1 200 OK\"\n",
      "HTTP Request: POST http://127.0.0.1:5000/v1/embeddings \"HTTP/1.1 200 OK\"\n",
      "INFO:httpx:HTTP Request: POST http://127.0.0.1:5000/v1/chat/completions \"HTTP/1.1 200 OK\"\n",
      "HTTP Request: POST http://127.0.0.1:5000/v1/chat/completions \"HTTP/1.1 200 OK\"\n"
     ]
    },
    {
     "data": {
      "text/markdown": [
       "<b>Bel is a programming language specification expressed as code, written by Paul Graham between late 2015 and the fall of 2019. It was developed intensely and was the focus of Graham's work during that period, despite it not being publicly known at the time. Bel is a functional language and is similar to McCarthy's original Lisp. It is a spec rather than an implementation.</b>"
      ],
      "text/plain": [
       "<IPython.core.display.Markdown object>"
      ]
     },
     "metadata": {},
     "output_type": "display_data"
    }
   ],
   "source": [
    "hyde = HyDEQueryTransform(include_original=True)\n",
    "hyde_query_engine = TransformQueryEngine(query_engine, hyde)\n",
    "response = hyde_query_engine.query(query_str)\n",
    "display(Markdown(f\"<b>{response}</b>\"))\n"
   ]
  },
  {
   "cell_type": "code",
   "execution_count": 18,
   "id": "5ee54cb4-c135-42ea-83fa-13377117c715",
   "metadata": {},
   "outputs": [
    {
     "name": "stdout",
     "output_type": "stream",
     "text": [
      "INFO:httpx:HTTP Request: POST http://127.0.0.1:5000/v1/chat/completions \"HTTP/1.1 200 OK\"\n",
      "HTTP Request: POST http://127.0.0.1:5000/v1/chat/completions \"HTTP/1.1 200 OK\"\n"
     ]
    }
   ],
   "source": [
    "query_bundle = hyde(query_str)\n",
    "hyde_doc = query_bundle.embedding_strs[0]"
   ]
  },
  {
   "cell_type": "code",
   "execution_count": 19,
   "id": "f9553e7e-b75d-4a6c-8ebb-2cf7f244e0b7",
   "metadata": {},
   "outputs": [
    {
     "data": {
      "text/plain": [
       "'Bel, also known as Baal or Baalzebub, is a deity revered in ancient Semitic cultures, primarily in the region that is now Syria and Lebanon. Bel is believed to be the god of the earth, the heavens, and the underworld, making him a triune deity with dominion over all aspects of the natural world. He was often depicted as a powerful, bearded figure, wearing a crown adorned with the horns of a bull or a solar disk.\\n\\nBel\\'s worship spread beyond the Semitic world, reaching as far as Babylon and Carthage. In Babylonian mythology, Bel was identified with Bel Marduk, the chief god of the city. In Carthage, he was known as Baal Hammon, the god of fertility and harvest.\\n\\nBel\\'s temples were grand structures, often housing massive statues of the deity. One of the most famous temples dedicated to Bel was located in the city of Palmyra, in modern-day Syria. This temple, known as the Temple of Bel, was renowned for its impressive architecture and intricate decorations.\\n\\nBel was believed to have the power to grant fertility to the land and to protect his followers from harm. He was also invoked for healing, particularly for afflictions related to the eyes and the reproductive system.\\n\\nBel\\'s worship involved various rituals and ceremonies, including animal sacrifices and the consumption of sacred food and drink. His followers believed that by participating in these rituals, they could gain Bel\\'s favor and protection.\\n\\nDespite the passage of time and the spread of monotheistic religions, the worship of Bel continued to persist in various forms. Today, Bel is remembered as an important figure in the history of ancient religions, and his legacy can be seen in the many cultural and architectural treasures that bear witness to his once-great influence.\\n\\n\"\"\"'"
      ]
     },
     "execution_count": 19,
     "metadata": {},
     "output_type": "execute_result"
    }
   ],
   "source": [
    "hyde_doc"
   ]
  },
  {
   "cell_type": "code",
   "execution_count": 20,
   "id": "cbfc4f3d-45f4-4eaa-a11c-eea5c168ccab",
   "metadata": {},
   "outputs": [],
   "source": [
    "query_str = \"What would the author say about art vs. engineering?\""
   ]
  },
  {
   "cell_type": "code",
   "execution_count": 21,
   "id": "3f97abe6-6f5e-4be9-b579-3fd530eecef3",
   "metadata": {},
   "outputs": [
    {
     "name": "stdout",
     "output_type": "stream",
     "text": [
      "INFO:httpx:HTTP Request: POST http://127.0.0.1:5000/v1/embeddings \"HTTP/1.1 200 OK\"\n",
      "HTTP Request: POST http://127.0.0.1:5000/v1/embeddings \"HTTP/1.1 200 OK\"\n",
      "INFO:httpx:HTTP Request: POST http://127.0.0.1:5000/v1/chat/completions \"HTTP/1.1 200 OK\"\n",
      "HTTP Request: POST http://127.0.0.1:5000/v1/chat/completions \"HTTP/1.1 200 OK\"\n"
     ]
    },
    {
     "data": {
      "text/markdown": [
       "Based on the context information provided, the author's perspective on art versus engineering can be inferred from his experiences and reflections on attending art school and his eventual decision to become a painter and then a software developer.\n",
       "\n",
       "The author expresses his disappointment with the painting department at the Accademia, where he felt that there was a lack of rigor and focus on teaching students the fundamentals of art. He describes how students were encouraged to develop their own signature styles rather than learning the basics of drawing and painting. He also mentions that he learned more about painting through painting still lifes in his bedroom and observing the details of everyday objects.\n",
       "\n",
       "Later, the author decides to write a book on Lisp programming to make a living as a painter. He describes how he was drawn to the financial potential of becoming a wealthy fund manager, but was also intrigued by the new technology of the World Wide Web.\n",
       "\n",
       "From these experiences, it seems that the author values the importance of learning the fundamentals of a craft or skill, whether it be art or engineering. He recognizes the value of hard work and dedication to mastering a subject, and is not afraid to explore new technologies and opportunities. However, he also expresses a sense of disappointment when institutions fail to provide a rigorous education and instead focus on superficial aspects such as developing a signature style.\n",
       "\n",
       "Overall, the author's perspective on art versus engineering is not explicitly stated in the context information, but his experiences and reflections suggest a value for learning the fundamentals of a craft or skill, and a recognition of the importance of hard work and dedication to mastery."
      ],
      "text/plain": [
       "<IPython.core.display.Markdown object>"
      ]
     },
     "metadata": {},
     "output_type": "display_data"
    }
   ],
   "source": [
    "response = query_engine.query(query_str)\n",
    "display(Markdown(f\"{response}\"))"
   ]
  },
  {
   "cell_type": "code",
   "execution_count": 22,
   "id": "d959e35a-c185-4213-9623-c341a92c901d",
   "metadata": {},
   "outputs": [
    {
     "name": "stdout",
     "output_type": "stream",
     "text": [
      "INFO:httpx:HTTP Request: POST http://127.0.0.1:5000/v1/chat/completions \"HTTP/1.1 200 OK\"\n",
      "HTTP Request: POST http://127.0.0.1:5000/v1/chat/completions \"HTTP/1.1 200 OK\"\n",
      "INFO:httpx:HTTP Request: POST http://127.0.0.1:5000/v1/embeddings \"HTTP/1.1 200 OK\"\n",
      "HTTP Request: POST http://127.0.0.1:5000/v1/embeddings \"HTTP/1.1 200 OK\"\n",
      "INFO:httpx:HTTP Request: POST http://127.0.0.1:5000/v1/embeddings \"HTTP/1.1 200 OK\"\n",
      "HTTP Request: POST http://127.0.0.1:5000/v1/embeddings \"HTTP/1.1 200 OK\"\n",
      "INFO:httpx:HTTP Request: POST http://127.0.0.1:5000/v1/chat/completions \"HTTP/1.1 200 OK\"\n",
      "HTTP Request: POST http://127.0.0.1:5000/v1/chat/completions \"HTTP/1.1 200 OK\"\n"
     ]
    },
    {
     "data": {
      "text/markdown": [
       "Based on the context provided, the author's perspective on art versus engineering can be inferred from his experiences and reflections on attending art schools and his pursuit of a career as an artist. He expresses his disappointment with the lack of rigor and focus on developing a distinctive style in the painting department at the Accademia, and his preference for painting still lifes due to the fixed nature of the subject and the opportunity to observe and learn from the details. He also mentions his interest in technology and programming, which leads him to write a book on Lisp and eventually pursue a career in software development.\n",
       "\n",
       "The author's perspective on art and engineering can be summarized as follows: Art is about expression, creativity, and observation, while engineering is about solving problems and building things. The author values both, but he seems to have a stronger affinity for art due to his curiosity and desire to understand the world around him through painting. However, he also recognizes the practical benefits of engineering and technology, which ultimately leads him to pursue a career in software development while continuing to paint as a hobby.\n",
       "\n",
       "It's important to note that the author's perspective is based on his personal experiences and may not represent a universal view on art and engineering."
      ],
      "text/plain": [
       "<IPython.core.display.Markdown object>"
      ]
     },
     "metadata": {},
     "output_type": "display_data"
    }
   ],
   "source": [
    "response = hyde_query_engine.query(query_str)\n",
    "display(Markdown(f\"{response}\"))"
   ]
  },
  {
   "cell_type": "code",
   "execution_count": null,
   "id": "abbc830a-0cb9-4ee4-9cbb-8971a68db409",
   "metadata": {},
   "outputs": [],
   "source": []
  }
 ],
 "metadata": {
  "kernelspec": {
   "display_name": "venv-llamaindex",
   "language": "python",
   "name": "venv-llamaindex"
  },
  "language_info": {
   "codemirror_mode": {
    "name": "ipython",
    "version": 3
   },
   "file_extension": ".py",
   "mimetype": "text/x-python",
   "name": "python",
   "nbconvert_exporter": "python",
   "pygments_lexer": "ipython3",
   "version": "3.11.2"
  }
 },
 "nbformat": 4,
 "nbformat_minor": 5
}
