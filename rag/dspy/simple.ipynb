{
 "cells": [
  {
   "cell_type": "code",
   "execution_count": 1,
   "id": "e523da1d-ec55-4b61-8c83-f119fe930269",
   "metadata": {},
   "outputs": [],
   "source": [
    "# https://gist.github.com/jrknox1977/78c17e492b5a75ee5bbaf9673aee4641"
   ]
  },
  {
   "cell_type": "code",
   "execution_count": 2,
   "id": "46c25b2f-4e6a-4bbc-9443-ff485744d315",
   "metadata": {},
   "outputs": [],
   "source": [
    "import os\n",
    "os.environ['OPENAI_API_KEY']='sk-111111111111111111111111111111111111111111111111'\n",
    "os.environ['OPENAI_API_BASE']='http://127.0.0.1:5000/v1/'"
   ]
  },
  {
   "cell_type": "code",
   "execution_count": 3,
   "id": "b7eb46ec-c884-4012-9d65-0c1748abb956",
   "metadata": {},
   "outputs": [
    {
     "name": "stdout",
     "output_type": "stream",
     "text": [
      "bagel-7b-v0.5-8.0bpw-h8-exl2\n"
     ]
    }
   ],
   "source": [
    "import requests\n",
    "model_info_url = 'http://127.0.0.1:5000/v1/internal/model/info'\n",
    "resp = requests.get(model_info_url)\n",
    "_model_name = resp.json()['model_name']\n",
    "print(_model_name)"
   ]
  },
  {
   "cell_type": "code",
   "execution_count": 4,
   "id": "5e294983-51fb-4246-addf-60be0d88b564",
   "metadata": {},
   "outputs": [],
   "source": [
    "import dspy"
   ]
  },
  {
   "cell_type": "code",
   "execution_count": 5,
   "id": "9ee7972e-4290-469e-8832-175902bd3ad1",
   "metadata": {},
   "outputs": [],
   "source": [
    "llm = dspy.OpenAI(model='gpt-3.5-turbo-instruct', max_tokens=250, temperature=0.01, api_base=os.environ['OPENAI_API_BASE'], model_type=\"chat\")"
   ]
  },
  {
   "cell_type": "code",
   "execution_count": 6,
   "id": "0a2a7f35-101f-4ba2-b887-af603419f88f",
   "metadata": {},
   "outputs": [],
   "source": [
    "# This sets the language model for DSPy.\n",
    "dspy.settings.configure(lm=llm)"
   ]
  },
  {
   "cell_type": "code",
   "execution_count": 7,
   "id": "b3e76ef7-4d33-4a0c-ba58-61c0d9e7698d",
   "metadata": {},
   "outputs": [],
   "source": [
    "# This is not required but it helps to understand what is happening\n",
    "my_example = {\n",
    "    \"question\": \"What game was Super Mario Bros. 2 based on?\",\n",
    "    \"answer\": \"Doki Doki Panic\",\n",
    "}"
   ]
  },
  {
   "cell_type": "code",
   "execution_count": 8,
   "id": "d93fd41b-32a0-43e7-b2e7-ea9ddc22c541",
   "metadata": {},
   "outputs": [],
   "source": [
    "# This is the signature for the predictor. It is a simple question and answer model.\n",
    "class BasicQA(dspy.Signature):\n",
    "    \"\"\"Answer questions about classic video games.\"\"\"\n",
    "\n",
    "    question = dspy.InputField(desc=\"a question about classic video games\")\n",
    "    answer = dspy.OutputField(desc=\"often between 1 and 5 words\")"
   ]
  },
  {
   "cell_type": "code",
   "execution_count": 9,
   "id": "20a647c5-a407-4d25-ab95-9d1c418a4a64",
   "metadata": {},
   "outputs": [],
   "source": [
    "# Define the predictor.\n",
    "generate_answer = dspy.Predict(BasicQA)"
   ]
  },
  {
   "cell_type": "code",
   "execution_count": 10,
   "id": "a1000364-4242-4b27-a614-68ee71dc9f10",
   "metadata": {},
   "outputs": [],
   "source": [
    "# Call the predictor on a particular input.\n",
    "pred = generate_answer(question=my_example['question'])"
   ]
  },
  {
   "cell_type": "code",
   "execution_count": 11,
   "id": "6d32d89b-f81c-449b-85af-e7e29d711701",
   "metadata": {},
   "outputs": [
    {
     "name": "stdout",
     "output_type": "stream",
     "text": [
      "Doki Doki Panic\n"
     ]
    }
   ],
   "source": [
    "# Print the answer...profit :)\n",
    "print(pred.answer)"
   ]
  },
  {
   "cell_type": "code",
   "execution_count": null,
   "id": "2a4c9b88-5da6-404a-ab62-fb1a12758fba",
   "metadata": {},
   "outputs": [],
   "source": []
  }
 ],
 "metadata": {
  "kernelspec": {
   "display_name": "venv-dspy",
   "language": "python",
   "name": "venv-dspy"
  },
  "language_info": {
   "codemirror_mode": {
    "name": "ipython",
    "version": 3
   },
   "file_extension": ".py",
   "mimetype": "text/x-python",
   "name": "python",
   "nbconvert_exporter": "python",
   "pygments_lexer": "ipython3",
   "version": "3.11.2"
  }
 },
 "nbformat": 4,
 "nbformat_minor": 5
}
