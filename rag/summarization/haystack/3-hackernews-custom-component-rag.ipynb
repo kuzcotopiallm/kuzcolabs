{
 "cells": [
  {
   "cell_type": "code",
   "execution_count": 1,
   "id": "7c4c566e-dc34-4f21-a76b-360c2d5a00bd",
   "metadata": {},
   "outputs": [],
   "source": [
    "from typing import List\n",
    "from haystack import component, Document\n",
    "from newspaper import Article\n",
    "import requests"
   ]
  },
  {
   "cell_type": "code",
   "execution_count": 2,
   "id": "213ef4d9-ce85-47f1-aa53-159b84d05c54",
   "metadata": {},
   "outputs": [],
   "source": [
    "@component\n",
    "class HackernewsNewestFetcher():\n",
    "\n",
    "  @component.output_types(articles=List[Document])\n",
    "  def run(self, last_k: int):\n",
    "    newest_list = requests.get(url='https://hacker-news.firebaseio.com/v0/newstories.json?print=pretty')\n",
    "    articles = []\n",
    "    for id in newest_list.json()[0:last_k]:\n",
    "      article = requests.get(url=f\"https://hacker-news.firebaseio.com/v0/item/{id}.json?print=pretty\")\n",
    "      if 'url' in article.json():\n",
    "        articles.append(article.json()['url'])\n",
    "\n",
    "    docs = []\n",
    "    for url in articles:\n",
    "      try:\n",
    "        article = Article(url)\n",
    "        article.download()\n",
    "        article.parse()\n",
    "        docs.append(Document(content=article.text, meta={'title': article.title, 'url': url}))\n",
    "      except:\n",
    "        print(f\"Couldn't download {url}, skipped\")\n",
    "    return {'articles': docs}"
   ]
  },
  {
   "cell_type": "code",
   "execution_count": 3,
   "id": "d79b2a1f-87f4-4302-adf8-4124b5af9e9c",
   "metadata": {},
   "outputs": [],
   "source": [
    "from haystack import Pipeline\n",
    "from haystack.components.builders.prompt_builder import PromptBuilder\n",
    "from haystack.components.generators import OpenAIGenerator"
   ]
  },
  {
   "cell_type": "code",
   "execution_count": 4,
   "id": "78370225-c866-4863-b9a4-639f84de0e7a",
   "metadata": {},
   "outputs": [],
   "source": [
    "import os\n",
    "os.environ['OPENAI_API_KEY']='sk-111111111111111111111111111111111111111111111111'\n",
    "os.environ['OPENAI_API_BASE']='http://127.0.0.1:5000/v1'"
   ]
  },
  {
   "cell_type": "code",
   "execution_count": 5,
   "id": "5c1dde77-42d1-4e7a-b655-844656b246e4",
   "metadata": {},
   "outputs": [
    {
     "name": "stdout",
     "output_type": "stream",
     "text": [
      "Mixtral-8x7B-instruct-exl2-6.0bpw\n"
     ]
    }
   ],
   "source": [
    "import requests\n",
    "model_info_url = 'http://127.0.0.1:5000/v1/internal/model/info'\n",
    "resp = requests.get(model_info_url)\n",
    "model = resp.json()['model_name']\n",
    "\n",
    "print(model)"
   ]
  },
  {
   "cell_type": "code",
   "execution_count": 6,
   "id": "73b8f367-1253-4700-86f2-82b1a744f043",
   "metadata": {},
   "outputs": [],
   "source": [
    "prompt_template = \"\"\"\n",
    "You will be provided a few of the latest posts in HakcerNews, followed by their URL.\n",
    "For each post, provide a brief summary followed by the URL the full post can be found in.\n",
    "\n",
    "Posts:\n",
    "{% for article in articles %}\n",
    "  {{article.content}}\n",
    "  URL: {{article.meta['url']}}\n",
    "{% endfor %}\n",
    "\"\"\""
   ]
  },
  {
   "cell_type": "code",
   "execution_count": 7,
   "id": "9b661ddf-4acd-4d75-ae67-b3dd48a3b7c2",
   "metadata": {},
   "outputs": [],
   "source": [
    "prompt_builder = PromptBuilder(template=prompt_template)"
   ]
  },
  {
   "cell_type": "code",
   "execution_count": 8,
   "id": "1febc78a-5846-4d3a-81f6-f578ba5b8f90",
   "metadata": {},
   "outputs": [],
   "source": [
    "llm = OpenAIGenerator(api_base_url=os.getenv('OPENAI_API_BASE'))"
   ]
  },
  {
   "cell_type": "code",
   "execution_count": 9,
   "id": "3bb2ad19-24a7-49e3-9af8-26e88dbf56fe",
   "metadata": {},
   "outputs": [],
   "source": [
    "fetcher = HackernewsNewestFetcher()"
   ]
  },
  {
   "cell_type": "code",
   "execution_count": 10,
   "id": "4fbca3e2-b2de-465c-956c-d8a043a1bf96",
   "metadata": {},
   "outputs": [],
   "source": [
    "pipe = Pipeline()\n",
    "pipe.add_component(\"hackernews_fetcher\", fetcher)\n",
    "pipe.add_component(\"prompt_builder\", prompt_builder)\n",
    "pipe.add_component(\"llm\", llm)"
   ]
  },
  {
   "cell_type": "code",
   "execution_count": 11,
   "id": "1e42c0ab-a105-47dc-9fd8-bdeffb7c5306",
   "metadata": {},
   "outputs": [
    {
     "data": {
      "text/plain": []
     },
     "execution_count": 11,
     "metadata": {},
     "output_type": "execute_result"
    }
   ],
   "source": [
    "pipe.connect(\"hackernews_fetcher.articles\", \"prompt_builder.articles\")\n",
    "pipe.connect(\"prompt_builder.prompt\", \"llm.prompt\")"
   ]
  },
  {
   "cell_type": "code",
   "execution_count": 12,
   "id": "9625745e-6750-47af-9e24-a50f67f84871",
   "metadata": {},
   "outputs": [],
   "source": [
    "result = pipe.run(data={\"hackernews_fetcher\": {\"last_k\": 3}})"
   ]
  },
  {
   "cell_type": "code",
   "execution_count": 13,
   "id": "55576975-236a-4c49-bdc7-e1648c7f36a0",
   "metadata": {},
   "outputs": [
    {
     "name": "stdout",
     "output_type": "stream",
     "text": [
      "Summary: The post discusses how rural areas in the US are seeing increased investment in data centers due to the growing demand for infrastructure to support AI applications. The post provides examples of hyperscalers like AWS, Meta, Microsoft, and Google investing in data centers in states like Virginia, Mississippi, Idaho, Texas, and Ohio. The post also mentions how these projects are driving the need for rapid deployment of energy infrastructure.\n",
      "\n",
      "Source: <https://siteselection.com/issues/2024/mar/how-data-centers-are-reshaping-rural-america.cfm>\n",
      "\n",
      "Summary: The post explores a scenario where an attacker can plant code to implement a \"Fake Lockdown Mode\" on a compromised device. The post explains that if a hacker has already infiltrated the device, activating Lockdown Mode will not prevent the execution of malicious payloads. The post then demonstrates how malware could trick the user into thinking Lockdown Mode is active, allowing the malware to continue running in the background.\n",
      "\n",
      "Source: <https://www.jamf.com/blog/fake-lockdown-mode/>\n"
     ]
    }
   ],
   "source": [
    "print(result['llm']['replies'][0])"
   ]
  },
  {
   "cell_type": "code",
   "execution_count": null,
   "id": "c7c1f223-95a6-486a-a6b5-5667a04a96c4",
   "metadata": {},
   "outputs": [],
   "source": []
  }
 ],
 "metadata": {
  "kernelspec": {
   "display_name": "venv-haystack",
   "language": "python",
   "name": "venv-haystack"
  },
  "language_info": {
   "codemirror_mode": {
    "name": "ipython",
    "version": 3
   },
   "file_extension": ".py",
   "mimetype": "text/x-python",
   "name": "python",
   "nbconvert_exporter": "python",
   "pygments_lexer": "ipython3",
   "version": "3.11.2"
  }
 },
 "nbformat": 4,
 "nbformat_minor": 5
}
