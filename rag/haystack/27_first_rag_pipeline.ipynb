{
 "cells": [
  {
   "cell_type": "code",
   "execution_count": 1,
   "id": "6dee0e87-fe8b-4338-9df4-64ae0ecee558",
   "metadata": {},
   "outputs": [],
   "source": [
    "# https://haystack.deepset.ai/tutorials/27_first_rag_pipeline"
   ]
  },
  {
   "cell_type": "code",
   "execution_count": 2,
   "id": "f6af8d29-98e3-4665-91e4-1d3832ba5515",
   "metadata": {},
   "outputs": [],
   "source": [
    "import os\n",
    "os.environ['OPENAI_API_KEY']='sk-111111111111111111111111111111111111111111111111'\n",
    "os.environ['OPENAI_API_BASE']='http://127.0.0.1:5000/v1'"
   ]
  },
  {
   "cell_type": "code",
   "execution_count": 3,
   "id": "434b2216-addf-4ca5-906b-22a053c11c49",
   "metadata": {},
   "outputs": [
    {
     "name": "stdout",
     "output_type": "stream",
     "text": [
      "Qwen1.5-32B-Chat-GPTQ-Int4\n"
     ]
    }
   ],
   "source": [
    "import requests\n",
    "model_info_url = 'http://127.0.0.1:5000/v1/internal/model/info'\n",
    "resp = requests.get(model_info_url)\n",
    "model = resp.json()['model_name']\n",
    "\n",
    "print(model)"
   ]
  },
  {
   "cell_type": "code",
   "execution_count": 4,
   "id": "6aec8918-e618-45d8-8a2a-a737215b4915",
   "metadata": {},
   "outputs": [],
   "source": [
    "from haystack.document_stores.in_memory import InMemoryDocumentStore\n",
    "\n",
    "document_store = InMemoryDocumentStore()"
   ]
  },
  {
   "cell_type": "code",
   "execution_count": 5,
   "id": "47bc69af-979c-4c47-848d-1f943937cae4",
   "metadata": {},
   "outputs": [],
   "source": [
    "from datasets import load_dataset\n",
    "from haystack import Document\n",
    "\n",
    "dataset = load_dataset(\"bilgeyucel/seven-wonders\", split=\"train\")\n",
    "docs = [Document(content=doc[\"content\"], meta=doc[\"meta\"]) for doc in dataset]"
   ]
  },
  {
   "cell_type": "code",
   "execution_count": 6,
   "id": "08cbfb40-e599-4ec7-8fe4-d681a467c29f",
   "metadata": {},
   "outputs": [
    {
     "data": {
      "text/plain": [
       "Dataset({\n",
       "    features: ['id', 'content', 'content_type', 'meta', 'id_hash_keys', 'score', 'embedding'],\n",
       "    num_rows: 151\n",
       "})"
      ]
     },
     "execution_count": 6,
     "metadata": {},
     "output_type": "execute_result"
    }
   ],
   "source": [
    "dataset"
   ]
  },
  {
   "cell_type": "code",
   "execution_count": 7,
   "id": "3da563ab-4da6-4276-8329-6a40308eb40b",
   "metadata": {},
   "outputs": [],
   "source": [
    "from haystack.components.embedders import SentenceTransformersDocumentEmbedder\n",
    "\n",
    "doc_embedder = SentenceTransformersDocumentEmbedder(model=\"sentence-transformers/all-MiniLM-L6-v2\")\n",
    "doc_embedder.warm_up()"
   ]
  },
  {
   "cell_type": "code",
   "execution_count": 8,
   "id": "d1d3170f-8822-4939-b103-c6db2ff34b0d",
   "metadata": {},
   "outputs": [
    {
     "data": {
      "application/vnd.jupyter.widget-view+json": {
       "model_id": "a7878020ef494179a06ef2efef8afb61",
       "version_major": 2,
       "version_minor": 0
      },
      "text/plain": [
       "Batches:   0%|          | 0/5 [00:00<?, ?it/s]"
      ]
     },
     "metadata": {},
     "output_type": "display_data"
    },
    {
     "data": {
      "text/plain": [
       "151"
      ]
     },
     "execution_count": 8,
     "metadata": {},
     "output_type": "execute_result"
    }
   ],
   "source": [
    "docs_with_embeddings = doc_embedder.run(docs)\n",
    "document_store.write_documents(docs_with_embeddings[\"documents\"])"
   ]
  },
  {
   "cell_type": "code",
   "execution_count": 9,
   "id": "796813a5-14ee-4b8e-9f44-4478e2dd4a8c",
   "metadata": {},
   "outputs": [],
   "source": [
    "from haystack.components.embedders import SentenceTransformersTextEmbedder\n",
    "\n",
    "text_embedder = SentenceTransformersTextEmbedder(model=\"sentence-transformers/all-MiniLM-L6-v2\")\n"
   ]
  },
  {
   "cell_type": "code",
   "execution_count": 10,
   "id": "6aa760cf-5881-4834-bf51-f3e5ae440c0a",
   "metadata": {},
   "outputs": [],
   "source": [
    "from haystack.components.retrievers.in_memory import InMemoryEmbeddingRetriever\n",
    "\n",
    "retriever = InMemoryEmbeddingRetriever(document_store)"
   ]
  },
  {
   "cell_type": "code",
   "execution_count": 11,
   "id": "64156f81-c8ac-460a-9f5f-67085b9da6ba",
   "metadata": {},
   "outputs": [],
   "source": [
    "from haystack.components.builders import PromptBuilder\n",
    "\n",
    "template = \"\"\"\n",
    "Given the following information, answer the question.\n",
    "\n",
    "Context:\n",
    "{% for document in documents %}\n",
    "    {{ document.content }}\n",
    "{% endfor %}\n",
    "\n",
    "Question: {{question}}\n",
    "Answer:\n",
    "\"\"\"\n",
    "\n",
    "prompt_builder = PromptBuilder(template=template)"
   ]
  },
  {
   "cell_type": "code",
   "execution_count": 12,
   "id": "d3d2cdd7-b889-4e42-9077-8e4001125b3c",
   "metadata": {},
   "outputs": [],
   "source": [
    "import os\n",
    "from getpass import getpass\n",
    "from haystack.components.generators import OpenAIGenerator\n",
    "\n",
    "# os.environ[\"OPENAI_API_KEY\"] = getpass(\"Enter OpenAI API key: \")\n",
    "generator = OpenAIGenerator(model=\"gpt-3.5-turbo\", api_base_url=os.getenv('OPENAI_API_BASE'))\n"
   ]
  },
  {
   "cell_type": "code",
   "execution_count": 13,
   "id": "38cd2a1b-b6db-4647-a616-bf7d5e0fb831",
   "metadata": {},
   "outputs": [
    {
     "data": {
      "text/plain": []
     },
     "execution_count": 13,
     "metadata": {},
     "output_type": "execute_result"
    }
   ],
   "source": [
    "from haystack import Pipeline\n",
    "\n",
    "basic_rag_pipeline = Pipeline()\n",
    "# Add components to your pipeline\n",
    "basic_rag_pipeline.add_component(\"text_embedder\", text_embedder)\n",
    "basic_rag_pipeline.add_component(\"retriever\", retriever)\n",
    "basic_rag_pipeline.add_component(\"prompt_builder\", prompt_builder)\n",
    "basic_rag_pipeline.add_component(\"llm\", generator)\n",
    "\n",
    "# Now, connect the components to each other\n",
    "basic_rag_pipeline.connect(\"text_embedder.embedding\", \"retriever.query_embedding\")\n",
    "basic_rag_pipeline.connect(\"retriever\", \"prompt_builder.documents\")\n",
    "basic_rag_pipeline.connect(\"prompt_builder\", \"llm\")"
   ]
  },
  {
   "cell_type": "code",
   "execution_count": 14,
   "id": "67d05508-1eaf-4653-82a1-0085a2ec144d",
   "metadata": {},
   "outputs": [
    {
     "data": {
      "application/vnd.jupyter.widget-view+json": {
       "model_id": "4e2bb64d549e4bdea7cfa798ec0019e1",
       "version_major": 2,
       "version_minor": 0
      },
      "text/plain": [
       "Batches:   0%|          | 0/1 [00:00<?, ?it/s]"
      ]
     },
     "metadata": {},
     "output_type": "display_data"
    },
    {
     "name": "stdout",
     "output_type": "stream",
     "text": [
      "The exact appearance of the Rhodes Statue, also known as the Colossus of Rhodes, is not known in detail. However, it was a statue of the Greek sun-god Helios, constructed of bronze and standing approximately 70 cubits or 33 meters (108 feet) high. The head of the statue is believed to have had curly hair with bronze or silver spikes radiating outwards, similar to the depiction on contemporary Rhodian coins. It is thought to have been constructed with an iron frame and filled with stone blocks as it was built. The statue stood with its legs apart, but archaeological evidence and engineering analysis suggest that the statue was not built in a straddling stance over the harbor entrance, as often depicted in popular imagination. Instead, it is more likely to have been矗立在一个15米高的白色大理石基座上，靠近海港入口。\n"
     ]
    }
   ],
   "source": [
    "question = \"What does Rhodes Statue look like?\"\n",
    "\n",
    "response = basic_rag_pipeline.run({\"text_embedder\": {\"text\": question}, \"prompt_builder\": {\"question\": question}})\n",
    "\n",
    "print(response[\"llm\"][\"replies\"][0])"
   ]
  },
  {
   "cell_type": "code",
   "execution_count": 15,
   "id": "f8beab35-d714-4d90-8a9a-0f3487ab1ba4",
   "metadata": {},
   "outputs": [],
   "source": [
    "examples = [\n",
    "    \"Where is Gardens of Babylon?\",\n",
    "    \"Why did people build Great Pyramid of Giza?\",\n",
    "    \"What does Rhodes Statue look like?\",\n",
    "    \"Why did people visit the Temple of Artemis?\",\n",
    "    \"What is the importance of Colossus of Rhodes?\",\n",
    "    \"What happened to the Tomb of Mausolus?\",\n",
    "    \"How did Colossus of Rhodes collapse?\",\n",
    "]"
   ]
  },
  {
   "cell_type": "code",
   "execution_count": 16,
   "id": "7c017897-cb15-4b1f-a4e8-eef778a801a9",
   "metadata": {},
   "outputs": [
    {
     "data": {
      "application/vnd.jupyter.widget-view+json": {
       "model_id": "afa691fc8946412a8b05de6af4a39c91",
       "version_major": 2,
       "version_minor": 0
      },
      "text/plain": [
       "Batches:   0%|          | 0/1 [00:00<?, ?it/s]"
      ]
     },
     "metadata": {},
     "output_type": "display_data"
    },
    {
     "name": "stdout",
     "output_type": "stream",
     "text": [
      "Where is Gardens of Babylon?\n",
      "The Hanging Gardens of Babylon, also known as the Hanging Gardens of Semiramis, were located in the ancient city of Babylon, near present-day Hillah, Babil province, in Iraq. However, the exact location within Babylon has not been definitively established, as no definitive archaeological evidence has been found, and there are different theories regarding their existence and location.\n"
     ]
    },
    {
     "data": {
      "application/vnd.jupyter.widget-view+json": {
       "model_id": "763420bf0cf94143807f93f5fc6a0077",
       "version_major": 2,
       "version_minor": 0
      },
      "text/plain": [
       "Batches:   0%|          | 0/1 [00:00<?, ?it/s]"
      ]
     },
     "metadata": {},
     "output_type": "display_data"
    },
    {
     "name": "stdout",
     "output_type": "stream",
     "text": [
      "Why did people build Great Pyramid of Giza?\n",
      "The Great Pyramid of Giza was built as the tomb of Fourth Dynasty pharaoh Khufu. It was constructed as part of his funerary complex to serve as a lasting monument and a place of interment for the pharaoh, in accordance with ancient Egyptian beliefs about the afterlife and the need for a secure resting place for the king's soul to ensure his continuation in the next world. The pyramid was designed to protect Khufu's body and funerary objects, and its grandeur and precision were intended to reflect the pharaoh's power and divinity.\n"
     ]
    },
    {
     "data": {
      "application/vnd.jupyter.widget-view+json": {
       "model_id": "61b5982b59844398a405f2cbfeccd62d",
       "version_major": 2,
       "version_minor": 0
      },
      "text/plain": [
       "Batches:   0%|          | 0/1 [00:00<?, ?it/s]"
      ]
     },
     "metadata": {},
     "output_type": "display_data"
    },
    {
     "name": "stdout",
     "output_type": "stream",
     "text": [
      "What does Rhodes Statue look like?\n",
      "The specific appearance of the Rhodes Statue, also known as the Colossus of Rhodes, is not well-documented, as there are no surviving detailed descriptions or images of it. However, scholars believe that the head of the statue would have had curly hair with evenly spaced spikes of bronze or silver resembling flames,类似于 contemporary Rhodian coins depicted. The statue was designed to depict the Greek sun-god Helios. It was likely to be made of bronze plates fixed to an iron frame, with the interior filled with stone blocks as it was built. The statue stood approximately 70 cubits, or around 33 meters (108 feet) high. It featured a standard representation of the time, with the statue standing upright, but there is no consensus on whether it straddled the harbor entrance or stood on a pedestal or breakwater.\n"
     ]
    },
    {
     "data": {
      "application/vnd.jupyter.widget-view+json": {
       "model_id": "3ae8315405ca4c04a66b5aada57fce47",
       "version_major": 2,
       "version_minor": 0
      },
      "text/plain": [
       "Batches:   0%|          | 0/1 [00:00<?, ?it/s]"
      ]
     },
     "metadata": {},
     "output_type": "display_data"
    },
    {
     "name": "stdout",
     "output_type": "stream",
     "text": [
      "Why did people visit the Temple of Artemis?\n",
      "People visited the Temple of Artemis at Ephesus because it was a major attraction, attracting merchants, kings, and sightseers. They came to pay homage to Artemis, the goddess of the temple, often offering jewelry and various goods. The temple also served as a sanctuary for those seeking protection from persecution or punishment, as it had a tradition linked to the Amazons who sought refuge there. Additionally, the temple's magnificence and religious significance, being one of the Seven Wonders of the Ancient World, drew visitors from far and wide.\n"
     ]
    },
    {
     "data": {
      "application/vnd.jupyter.widget-view+json": {
       "model_id": "68b85255f71549e988ccd6fb3dfbd73c",
       "version_major": 2,
       "version_minor": 0
      },
      "text/plain": [
       "Batches:   0%|          | 0/1 [00:00<?, ?it/s]"
      ]
     },
     "metadata": {},
     "output_type": "display_data"
    },
    {
     "name": "stdout",
     "output_type": "stream",
     "text": [
      "What is the importance of Colossus of Rhodes?\n",
      "The Colossus of Rhodes was a monumental statue of the Greek sun-god Helios, and it held significant importance for several reasons:\n",
      "\n",
      "1. Architectural Achievement: As one of the Seven Wonders of the Ancient World, the Colossus of Rhodes was a remarkable testament to ancient engineering and artistic skills. Its construction, standing at approximately 33 meters (108 feet) tall, made it the tallest statue in the ancient world.\n",
      "\n",
      "2. Symbol of Victory and Prosperity: The statue was built to celebrate the successful defense of Rhodes against the siege led by Demetrius Poliorcetes. Its construction demonstrated the city-state's wealth, military prowess, and artistic prowess, serving as a powerful symbol of their victory and resilience.\n",
      "\n",
      "3. Cultural Significance: The statue added to the cultural and religious identity of Rhodes, as it honored their patron deity Helios, who was associated with sunlight, fertility, and protection. It also attracted visitors and contributed to the city's prestige as a center of culture and trade.\n",
      "\n",
      "4. Historical Landmark: The Colossus became an iconic landmark of ancient Greece, inspiring literature, art, and poetry. It is mentioned by various ancient authors, and its image has been replicated in various forms throughout history, such as Shakespeare's references in his plays.\n",
      "\n",
      "5. Influence on Future Monuments: The concept of the Colossus as a massive sculpture has influenced other monumental statues throughout history, including the modern Statue of Liberty in New York City, which bears some thematic similarities.\n",
      "\n",
      "6. Historical Rarity: Although it was destroyed by an earthquake in 226 BC and never rebuilt, the legend and memory of the Colossus persisted, contributing to the fascination with ancient wonders and inspiring modern复建efforts and discussions about its reconstruction.\n",
      "\n",
      "7. Cultural Heritage and Tourism: The Colossus of Rhodes is a part of human cultural heritage, and its legacy has contributed to the interest in visiting and exploring the ancient site of Rhodes, fostering tourism and cultural appreciation.\n"
     ]
    },
    {
     "data": {
      "application/vnd.jupyter.widget-view+json": {
       "model_id": "1c0f01f461d640f3924fa1841efb9a25",
       "version_major": 2,
       "version_minor": 0
      },
      "text/plain": [
       "Batches:   0%|          | 0/1 [00:00<?, ?it/s]"
      ]
     },
     "metadata": {},
     "output_type": "display_data"
    },
    {
     "name": "stdout",
     "output_type": "stream",
     "text": [
      "What happened to the Tomb of Mausolus?\n",
      "The Tomb of Mausolus, also known as the Mausoleum at Halicarnassus, was a magnificent structure built between 353 and 350 BC for Mausolus and his sister-wife Artemisia II of Caria. Over the centuries, it withstood attacks and remained relatively intact until a series of earthquakes from the 12th to the 15th century caused significant damage. The stones of the Mausoleum were later used by the Knights of St John of Rhodes to fortify Bodrum Castle, and by the time of the Turkish invasion in 1522, only the base was recognizable. Much of the remaining portions of the tomb were further broken up and incorporated into the castle walls. Today, only the foundation remains at the site, with some surviving sculptures housed in museums like the British Museum.\n"
     ]
    },
    {
     "data": {
      "application/vnd.jupyter.widget-view+json": {
       "model_id": "5fe8cb535e1843bf8aa9a6cc1615751c",
       "version_major": 2,
       "version_minor": 0
      },
      "text/plain": [
       "Batches:   0%|          | 0/1 [00:00<?, ?it/s]"
      ]
     },
     "metadata": {},
     "output_type": "display_data"
    },
    {
     "name": "stdout",
     "output_type": "stream",
     "text": [
      "How did Colossus of Rhodes collapse?\n",
      "The Colossus of Rhodes collapsed due to an earthquake that occurred in 226 BC. The earthquake caused significant damage to large portions of Rhodes, including the harbor and commercial buildings, and the statue snapped at the knees, falling over onto land.\n"
     ]
    }
   ],
   "source": [
    "for question in examples:\n",
    "    response = basic_rag_pipeline.run({\"text_embedder\": {\"text\": question}, \"prompt_builder\": {\"question\": question}})\n",
    "    print(question)\n",
    "    print(response[\"llm\"][\"replies\"][0])"
   ]
  },
  {
   "cell_type": "code",
   "execution_count": null,
   "id": "ec1889ab-75cb-4e19-8713-7fc6e238e3a7",
   "metadata": {},
   "outputs": [],
   "source": []
  }
 ],
 "metadata": {
  "kernelspec": {
   "display_name": "venv-haystack",
   "language": "python",
   "name": "venv-haystack"
  },
  "language_info": {
   "codemirror_mode": {
    "name": "ipython",
    "version": 3
   },
   "file_extension": ".py",
   "mimetype": "text/x-python",
   "name": "python",
   "nbconvert_exporter": "python",
   "pygments_lexer": "ipython3",
   "version": "3.11.2"
  }
 },
 "nbformat": 4,
 "nbformat_minor": 5
}
